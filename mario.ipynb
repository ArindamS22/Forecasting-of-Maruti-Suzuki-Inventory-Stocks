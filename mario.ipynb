{
  "nbformat": 4,
  "nbformat_minor": 0,
  "metadata": {
    "colab": {
      "name": "mario.ipynb",
      "provenance": [],
      "authorship_tag": "ABX9TyMVnO0Zn6Hx48KPxmhuRHGr",
      "include_colab_link": true
    },
    "kernelspec": {
      "name": "python3",
      "display_name": "Python 3"
    }
  },
  "cells": [
    {
      "cell_type": "markdown",
      "metadata": {
        "id": "view-in-github",
        "colab_type": "text"
      },
      "source": [
        "<a href=\"https://colab.research.google.com/github/ArindamS22/Forecasting-of-Maruti-Suzuki-Inventory-Stocks/blob/master/mario.ipynb\" target=\"_parent\"><img src=\"https://colab.research.google.com/assets/colab-badge.svg\" alt=\"Open In Colab\"/></a>"
      ]
    },
    {
      "cell_type": "code",
      "metadata": {
        "id": "2mJYJFwWm4Ba",
        "colab_type": "code",
        "colab": {
          "base_uri": "https://localhost:8080/",
          "height": 231
        },
        "outputId": "96d8482f-a50c-4d4f-a1ed-a021b63510f1"
      },
      "source": [
        "class Mario(pg.sprite.Sprite):\n",
        "    def __init__(self):\n",
        "        pg.sprite.Sprite.__init__(self)\n",
        "        self.sprite_sheet = setup.GFX['mario_bros']\n",
        "\n",
        "        self.setup_timers()\n",
        "        self.setup_state_booleans()\n",
        "        self.setup_forces()\n",
        "        self.setup_counters()\n",
        "        self.load_images_from_sheet()\n",
        "\n",
        "        self.state = c.WALK\n",
        "        self.image = self.right_frames[self.frame_index]\n",
        "        self.rect = self.image.get_rect()\n",
        "        self.mask = pg.mask.from_surface(self.image)\n",
        "\n",
        "        self.key_timer = 0\n",
        "\n",
        "\n",
        "    def setup_timers(self):\n",
        "        self.walking_timer = 0\n",
        "        self.invincible_animation_timer = 0\n",
        "        self.invincible_start_timer = 0\n",
        "        self.fire_transition_timer = 0\n",
        "        self.death_timer = 0\n",
        "        self.transition_timer = 0\n",
        "        self.last_fireball_time = 0\n",
        "        self.hurt_invisible_timer = 0\n",
        "        self.hurt_invisible_timer2 = 0\n",
        "        self.flag_pole_timer = 0\n",
        "\n",
        "\n",
        "    def setup_state_booleans(self):\n",
        "        \"\"\"Sets up booleans that affect Mario's behavior\"\"\"\n",
        "        self.facing_right = True\n",
        "        self.allow_jump = True\n",
        "        self.dead = False\n",
        "        self.invincible = False\n",
        "        self.big = False\n",
        "        self.fire = False\n",
        "        self.allow_fireball = True\n",
        "        self.in_transition_state = False\n",
        "        self.hurt_invincible = False\n",
        "        self.in_castle = False\n",
        "        self.crouching = False\n",
        "        self.losing_invincibility = False\n",
        "\n",
        "\n",
        "    def setup_forces(self):\n",
        "        \"\"\"Sets up forces that affect Mario's velocity\"\"\"\n",
        "        self.x_vel = 0\n",
        "        self.y_vel = 0\n",
        "        self.max_x_vel = c.MAX_WALK_SPEED\n",
        "        self.max_y_vel = c.MAX_Y_VEL\n",
        "        self.x_accel = c.WALK_ACCEL\n",
        "        self.jump_vel = c.JUMP_VEL\n",
        "        self.gravity = c.GRAVITY\n",
        "\n"
      ],
      "execution_count": 1,
      "outputs": [
        {
          "output_type": "error",
          "ename": "NameError",
          "evalue": "ignored",
          "traceback": [
            "\u001b[0;31m---------------------------------------------------------------------------\u001b[0m",
            "\u001b[0;31mNameError\u001b[0m                                 Traceback (most recent call last)",
            "\u001b[0;32m<ipython-input-1-aa1dfeceef9f>\u001b[0m in \u001b[0;36m<module>\u001b[0;34m()\u001b[0m\n\u001b[0;32m----> 1\u001b[0;31m \u001b[0;32mclass\u001b[0m \u001b[0mMario\u001b[0m\u001b[0;34m(\u001b[0m\u001b[0mpg\u001b[0m\u001b[0;34m.\u001b[0m\u001b[0msprite\u001b[0m\u001b[0;34m.\u001b[0m\u001b[0mSprite\u001b[0m\u001b[0;34m)\u001b[0m\u001b[0;34m:\u001b[0m\u001b[0;34m\u001b[0m\u001b[0;34m\u001b[0m\u001b[0m\n\u001b[0m\u001b[1;32m      2\u001b[0m     \u001b[0;32mdef\u001b[0m \u001b[0m__init__\u001b[0m\u001b[0;34m(\u001b[0m\u001b[0mself\u001b[0m\u001b[0;34m)\u001b[0m\u001b[0;34m:\u001b[0m\u001b[0;34m\u001b[0m\u001b[0;34m\u001b[0m\u001b[0m\n\u001b[1;32m      3\u001b[0m         \u001b[0mpg\u001b[0m\u001b[0;34m.\u001b[0m\u001b[0msprite\u001b[0m\u001b[0;34m.\u001b[0m\u001b[0mSprite\u001b[0m\u001b[0;34m.\u001b[0m\u001b[0m__init__\u001b[0m\u001b[0;34m(\u001b[0m\u001b[0mself\u001b[0m\u001b[0;34m)\u001b[0m\u001b[0;34m\u001b[0m\u001b[0;34m\u001b[0m\u001b[0m\n\u001b[1;32m      4\u001b[0m         \u001b[0mself\u001b[0m\u001b[0;34m.\u001b[0m\u001b[0msprite_sheet\u001b[0m \u001b[0;34m=\u001b[0m \u001b[0msetup\u001b[0m\u001b[0;34m.\u001b[0m\u001b[0mGFX\u001b[0m\u001b[0;34m[\u001b[0m\u001b[0;34m'mario_bros'\u001b[0m\u001b[0;34m]\u001b[0m\u001b[0;34m\u001b[0m\u001b[0;34m\u001b[0m\u001b[0m\n\u001b[1;32m      5\u001b[0m \u001b[0;34m\u001b[0m\u001b[0m\n",
            "\u001b[0;31mNameError\u001b[0m: name 'pg' is not defined"
          ]
        }
      ]
    },
    {
      "cell_type": "code",
      "metadata": {
        "id": "n3QlNtRRm6cI",
        "colab_type": "code",
        "colab": {}
      },
      "source": [
        ""
      ],
      "execution_count": 0,
      "outputs": []
    }
  ]
}